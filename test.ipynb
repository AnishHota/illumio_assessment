{
 "cells": [
  {
   "cell_type": "code",
   "execution_count": 1,
   "metadata": {},
   "outputs": [],
   "source": [
    "import csv\n",
    "import os\n",
    "from collections import defaultdict"
   ]
  },
  {
   "cell_type": "code",
   "execution_count": 2,
   "metadata": {},
   "outputs": [],
   "source": [
    "data_path = \"data\"\n",
    "log_file_path = os.path.join(data_path, \"flow_log.txt\")\n",
    "lookup_file_path = os.path.join(data_path, \"lookup.csv\")\n",
    "protocol_numbers_file = os.path.join(data_path,\"protocol-numbers.csv\")"
   ]
  },
  {
   "cell_type": "code",
   "execution_count": 3,
   "metadata": {},
   "outputs": [],
   "source": [
    "def load_log_list(log_file):\n",
    "    log = []\n",
    "    with open(log_file, \"r\") as f:\n",
    "        for line in f:\n",
    "            line = line.strip().split()\n",
    "            log.append(line)\n",
    "    return log"
   ]
  },
  {
   "cell_type": "code",
   "execution_count": 22,
   "metadata": {},
   "outputs": [],
   "source": [
    "def load_lookup(lookup_file):\n",
    "    # lookup = []\n",
    "    lookup = {}\n",
    "    with open(lookup_file, \"r\") as f:\n",
    "        reader = csv.reader(f)\n",
    "        next(reader)  # Skip the header row\n",
    "        for port, pro, tag in reader:\n",
    "            lookup[f\"{port}_{pro}\"] = tag\n",
    "        # lookup = list(reader)\n",
    "    return lookup"
   ]
  },
  {
   "cell_type": "code",
   "execution_count": 21,
   "metadata": {},
   "outputs": [],
   "source": [
    "def protocol_numbers_conversion(protocol_numbers):\n",
    "    protocol_dict ={}\n",
    "    with open(protocol_numbers,'r') as f:\n",
    "        reader = csv.reader(f)\n",
    "        next(reader)  # Skip the header row\n",
    "        protocol_dict = {rows[0]:rows[1] for rows in reader}\n",
    "    return protocol_dict"
   ]
  },
  {
   "cell_type": "code",
   "execution_count": 23,
   "metadata": {},
   "outputs": [],
   "source": [
    "flow_log = load_log_list(log_file_path)"
   ]
  },
  {
   "cell_type": "code",
   "execution_count": 24,
   "metadata": {},
   "outputs": [],
   "source": [
    "lookup_file = load_lookup(lookup_file_path)"
   ]
  },
  {
   "cell_type": "code",
   "execution_count": 25,
   "metadata": {},
   "outputs": [
    {
     "data": {
      "text/plain": [
       "{'25_tcp': 'sv_P1',\n",
       " '68_udp': 'sv_P2',\n",
       " '23_tcp': 'sv_P1',\n",
       " '31_udp': 'SV_P3',\n",
       " '443_tcp': 'sv_P2',\n",
       " '22_tcp': 'sv_P4',\n",
       " '3389_tcp': 'sv_P5',\n",
       " '0_icmp': 'sv_P5',\n",
       " '110_tcp': 'email',\n",
       " '993_tcp': 'email',\n",
       " '143_tcp': 'email'}"
      ]
     },
     "execution_count": 25,
     "metadata": {},
     "output_type": "execute_result"
    }
   ],
   "source": [
    "lookup_file"
   ]
  },
  {
   "cell_type": "code",
   "execution_count": 26,
   "metadata": {},
   "outputs": [],
   "source": [
    "protocol_dict = protocol_numbers_conversion(protocol_numbers_file)"
   ]
  },
  {
   "cell_type": "code",
   "execution_count": null,
   "metadata": {},
   "outputs": [],
   "source": [
    "protocol_dict"
   ]
  },
  {
   "cell_type": "code",
   "execution_count": 9,
   "metadata": {},
   "outputs": [],
   "source": [
    "# # dstport: 6th index\n",
    "# # protocol: 7th index\n",
    "# tag_counts = defaultdict(int)\n",
    "# port_protocol_counts = defaultdict(int)\n",
    "# port_protocol_output = []\n",
    "# for log_record in flow_log:\n",
    "#     dstport = log_record[6]\n",
    "#     protocol_num = log_record[7]\n",
    "#     protocol = protocol_dict[protocol_num]\n",
    "#     flag = False\n",
    "#     port_protocol_counts[str(dstport)+\"_\"+str(protocol)]+=1\n",
    "#     for dstp,pro,tag in lookup_file:\n",
    "#         if dstport == dstp and protocol.lower() == pro.lower():\n",
    "#             tag_counts[tag] +=1\n",
    "#             flag = True\n",
    "#     if not flag:\n",
    "#         tag_counts[\"Untagged\"] +=1\n",
    "\n",
    "# for key,value in port_protocol_counts.items():\n",
    "#     port,protocol = key.split(\"_\")\n",
    "#     port_protocol_output.append([int(port),protocol,value])"
   ]
  },
  {
   "cell_type": "code",
   "execution_count": 33,
   "metadata": {},
   "outputs": [],
   "source": [
    "# dstport: 6th index\n",
    "# protocol: 7th index\n",
    "tag_counts = defaultdict(int)\n",
    "port_protocol_counts = defaultdict(int)\n",
    "port_protocol_output = []\n",
    "for log_record in flow_log:\n",
    "    dstport = log_record[6]\n",
    "    protocol_num = log_record[7]\n",
    "    protocol = protocol_dict[protocol_num].lower()\n",
    "    key = f\"{dstport}_{protocol}\"\n",
    "    port_protocol_counts[key] += 1\n",
    "    if key in lookup_file:\n",
    "        tag_counts[lookup_file[key]] += 1\n",
    "    else:\n",
    "        tag_counts[\"Untagged\"] +=1\n",
    "\n",
    "for key,value in port_protocol_counts.items():\n",
    "    port,protocol = key.split(\"_\")\n",
    "    port_protocol_output.append([int(port),protocol,value])"
   ]
  },
  {
   "cell_type": "code",
   "execution_count": 31,
   "metadata": {},
   "outputs": [
    {
     "data": {
      "text/plain": [
       "defaultdict(int, {'Untagged': 8, 'sv_P2': 1, 'sv_P1': 2, 'email': 3})"
      ]
     },
     "execution_count": 31,
     "metadata": {},
     "output_type": "execute_result"
    }
   ],
   "source": [
    "tag_counts"
   ]
  },
  {
   "cell_type": "code",
   "execution_count": 34,
   "metadata": {},
   "outputs": [
    {
     "data": {
      "text/plain": [
       "[[49153, 'tcp', 1],\n",
       " [49154, 'tcp', 1],\n",
       " [49155, 'tcp', 1],\n",
       " [49156, 'tcp', 1],\n",
       " [49157, 'tcp', 1],\n",
       " [49158, 'tcp', 1],\n",
       " [80, 'tcp', 1],\n",
       " [1024, 'tcp', 1],\n",
       " [443, 'tcp', 1],\n",
       " [23, 'tcp', 1],\n",
       " [25, 'tcp', 1],\n",
       " [110, 'tcp', 1],\n",
       " [993, 'tcp', 1],\n",
       " [143, 'tcp', 1]]"
      ]
     },
     "execution_count": 34,
     "metadata": {},
     "output_type": "execute_result"
    }
   ],
   "source": [
    "port_protocol_output"
   ]
  },
  {
   "cell_type": "code",
   "execution_count": 35,
   "metadata": {},
   "outputs": [],
   "source": [
    "def data_to_output(filename,tag_output,port_protocol_output):\n",
    "    with open(filename, 'w') as file:\n",
    "        # 1st file: Tags and their counts\n",
    "        file.write(\"Tag Counts: \\n\")\n",
    "        file.write(\"Tag,Count\\n\")\n",
    "        # Write the data rows\n",
    "        for tag, count in tag_output.items():\n",
    "            file.write(f\"{tag},{count}\\n\")\n",
    "        \n",
    "        file.write(\"\\n\")\n",
    "\n",
    "        #2nd file: Port, Protocol and their counts\n",
    "        file.write(\"Port/Protocol Combination Counts:\\n\")\n",
    "        file.write(\"Port,Protocol,Count\\n\")\n",
    "        # Write the data rows\n",
    "        for row in port_protocol_output:\n",
    "            file.write(\",\".join(map(str, row)) + \"\\n\")"
   ]
  },
  {
   "cell_type": "code",
   "execution_count": 36,
   "metadata": {},
   "outputs": [],
   "source": [
    "data_to_output(\"output.txt\",tag_counts,port_protocol_output)"
   ]
  }
 ],
 "metadata": {
  "kernelspec": {
   "display_name": "illumio-take-cS2ePgmN",
   "language": "python",
   "name": "python3"
  },
  "language_info": {
   "codemirror_mode": {
    "name": "ipython",
    "version": 3
   },
   "file_extension": ".py",
   "mimetype": "text/x-python",
   "name": "python",
   "nbconvert_exporter": "python",
   "pygments_lexer": "ipython3",
   "version": "3.11.7"
  }
 },
 "nbformat": 4,
 "nbformat_minor": 2
}
