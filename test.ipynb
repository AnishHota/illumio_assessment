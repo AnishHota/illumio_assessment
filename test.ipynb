{
 "cells": [
  {
   "cell_type": "code",
   "execution_count": 27,
   "metadata": {},
   "outputs": [],
   "source": [
    "import csv\n",
    "import os\n",
    "from collections import defaultdict"
   ]
  },
  {
   "cell_type": "code",
   "execution_count": 19,
   "metadata": {},
   "outputs": [],
   "source": [
    "data_path = \"data\"\n",
    "log_file_path = os.path.join(data_path, \"flow_log.txt\")\n",
    "lookup_file_path = os.path.join(data_path, \"lookup.csv\")\n",
    "protocol_numbers_file = os.path.join(data_path,\"protocol-numbers.csv\")"
   ]
  },
  {
   "cell_type": "code",
   "execution_count": 6,
   "metadata": {},
   "outputs": [],
   "source": [
    "def load_log_list(log_file):\n",
    "    log = []\n",
    "    with open(log_file, \"r\") as f:\n",
    "        for line in f:\n",
    "            line = line.strip().split()\n",
    "            log.append(line)\n",
    "    return log"
   ]
  },
  {
   "cell_type": "code",
   "execution_count": 11,
   "metadata": {},
   "outputs": [],
   "source": [
    "def load_lookup(lookup_file):\n",
    "    lookup = []\n",
    "    with open(lookup_file, \"r\") as f:\n",
    "        reader = csv.reader(f)\n",
    "        lookup = list(reader)\n",
    "    return lookup"
   ]
  },
  {
   "cell_type": "code",
   "execution_count": 21,
   "metadata": {},
   "outputs": [],
   "source": [
    "def protocol_numbers_conversion(protocol_numbers):\n",
    "    protocol_dict ={}\n",
    "    with open(protocol_numbers,'r') as f:\n",
    "        reader = csv.reader(f)\n",
    "        protocol_dict = {rows[0]:rows[1] for rows in reader}\n",
    "    del protocol_dict[\"Decimal\"]\n",
    "    return protocol_dict"
   ]
  },
  {
   "cell_type": "code",
   "execution_count": 9,
   "metadata": {},
   "outputs": [],
   "source": [
    "flow_log = load_log_list(log_file_path)"
   ]
  },
  {
   "cell_type": "code",
   "execution_count": 15,
   "metadata": {},
   "outputs": [],
   "source": [
    "lookup_file = load_lookup(lookup_file_path)"
   ]
  },
  {
   "cell_type": "code",
   "execution_count": 22,
   "metadata": {},
   "outputs": [],
   "source": [
    "protocol_dict = protocol_numbers_conversion(protocol_numbers_file)"
   ]
  },
  {
   "cell_type": "code",
   "execution_count": 37,
   "metadata": {},
   "outputs": [],
   "source": [
    "# dstport: 6th index\n",
    "# protocol: 7th index\n",
    "tag_counts = defaultdict(int)\n",
    "port_protocol_counts = defaultdict(int)\n",
    "port_protocol_output = []\n",
    "for log_record in flow_log:\n",
    "    dstport = log_record[6]\n",
    "    protocol_num = log_record[7]\n",
    "    protocol = protocol_dict[protocol_num]\n",
    "    flag = False\n",
    "    port_protocol_counts[str(dstport)+\"_\"+str(protocol)]+=1\n",
    "    for dstp,pro,tag in lookup_file:\n",
    "        if dstport == dstp and protocol.lower() == pro.lower():\n",
    "            tag_counts[tag] +=1\n",
    "            flag = True\n",
    "    if not flag:\n",
    "        tag_counts[\"Untagged\"] +=1\n",
    "\n",
    "for key,value in port_protocol_counts.items():\n",
    "    port,protocol = key.split(\"_\")\n",
    "    port_protocol_output.append([int(port),protocol,value])"
   ]
  },
  {
   "cell_type": "code",
   "execution_count": 38,
   "metadata": {},
   "outputs": [
    {
     "data": {
      "text/plain": [
       "defaultdict(int, {'Untagged': 8, 'sv_P2': 1, 'sv_P1': 2, 'email': 3})"
      ]
     },
     "execution_count": 38,
     "metadata": {},
     "output_type": "execute_result"
    }
   ],
   "source": [
    "tag_counts"
   ]
  },
  {
   "cell_type": "code",
   "execution_count": 39,
   "metadata": {},
   "outputs": [
    {
     "data": {
      "text/plain": [
       "[[49153, 'TCP', 1],\n",
       " [49154, 'TCP', 1],\n",
       " [49155, 'TCP', 1],\n",
       " [49156, 'TCP', 1],\n",
       " [49157, 'TCP', 1],\n",
       " [49158, 'TCP', 1],\n",
       " [80, 'TCP', 1],\n",
       " [1024, 'TCP', 1],\n",
       " [443, 'TCP', 1],\n",
       " [23, 'TCP', 1],\n",
       " [25, 'TCP', 1],\n",
       " [110, 'TCP', 1],\n",
       " [993, 'TCP', 1],\n",
       " [143, 'TCP', 1]]"
      ]
     },
     "execution_count": 39,
     "metadata": {},
     "output_type": "execute_result"
    }
   ],
   "source": [
    "port_protocol_output"
   ]
  }
 ],
 "metadata": {
  "kernelspec": {
   "display_name": "illumio-take-cS2ePgmN",
   "language": "python",
   "name": "python3"
  },
  "language_info": {
   "codemirror_mode": {
    "name": "ipython",
    "version": 3
   },
   "file_extension": ".py",
   "mimetype": "text/x-python",
   "name": "python",
   "nbconvert_exporter": "python",
   "pygments_lexer": "ipython3",
   "version": "3.11.7"
  }
 },
 "nbformat": 4,
 "nbformat_minor": 2
}
